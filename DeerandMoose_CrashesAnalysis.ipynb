{
 "cells": [
  {
   "cell_type": "markdown",
   "metadata": {},
   "source": [
    "SIE510-GIS Applications\n",
    "Final Project: Deer and Moose Crashes Analysis in Maine\n",
    "- Eugenie V. Kamgue -"
   ]
  },
  {
   "cell_type": "code",
   "execution_count": 1,
   "metadata": {},
   "outputs": [],
   "source": [
    "import arcpy\n",
    "from arcpy import env\n",
    "\n",
    "env.workspace=r\"c:\\FinalProject\\FinalProject.gdb\"\n",
    "env.overwriteOutput=True\n"
   ]
  },
  {
   "cell_type": "code",
   "execution_count": 2,
   "metadata": {},
   "outputs": [],
   "source": [
    "eastern=r\"c:\\FinalProject\\FinalProject.gdb\\test_Eastern\""
   ]
  },
  {
   "cell_type": "code",
   "execution_count": 3,
   "metadata": {},
   "outputs": [],
   "source": [
    "southern=r\"c:\\FinalProject\\FinalProject.gdb\\test_Southern\""
   ]
  },
  {
   "cell_type": "code",
   "execution_count": 4,
   "metadata": {},
   "outputs": [],
   "source": [
    "western=r\"c:\\FinalProject\\FinalProject.gdb\\test_Western\""
   ]
  },
  {
   "cell_type": "code",
   "execution_count": 5,
   "metadata": {},
   "outputs": [],
   "source": [
    "northern=r\"c:\\FinalProject\\FinalProject.gdb\\test_Northern\""
   ]
  },
  {
   "cell_type": "code",
   "execution_count": 6,
   "metadata": {},
   "outputs": [],
   "source": [
    "midcoast=r\"c:\\FinalProject\\FinalProject.gdb\\test_MidCoast\""
   ]
  },
  {
   "cell_type": "code",
   "execution_count": 8,
   "metadata": {},
   "outputs": [
    {
     "name": "stdout",
     "output_type": "stream",
     "text": [
      "['OBJECTID', 'Shape', 'FID_Southern_MooseCrashes', 'crash_id', 'accident_d', 'accident_1', 'accident_t', 'accident_y', 'contrib_ci', 'crash_cost', 'light_cond', 'location_t', 'mdotid', 'no_of_a_in', 'no_of_b_in', 'no_of_c_in', 'no_of_k_in', 'no_of_non_', 'road_surf_', 'traffic_co', 'type_of_cr', 'weather_co', 'workzone_i', 'Lat', 'Long', 'FID_Southern_Roads', 'fedfunclcd', 'fedfunccls', 'st_length_']\n"
     ]
    }
   ],
   "source": [
    "fields=arcpy.ListFields(southern)\n",
    "\n",
    "field_names=[f.name for f in fields]\n",
    "print (field_names)"
   ]
  },
  {
   "cell_type": "code",
   "execution_count": 9,
   "metadata": {},
   "outputs": [],
   "source": [
    "import pandas as pd\n",
    "from arcgis import GIS"
   ]
  },
  {
   "cell_type": "code",
   "execution_count": 14,
   "metadata": {},
   "outputs": [
    {
     "data": {
      "text/html": [
       "<div>\n",
       "<style scoped>\n",
       "    .dataframe tbody tr th:only-of-type {\n",
       "        vertical-align: middle;\n",
       "    }\n",
       "\n",
       "    .dataframe tbody tr th {\n",
       "        vertical-align: top;\n",
       "    }\n",
       "\n",
       "    .dataframe thead th {\n",
       "        text-align: right;\n",
       "    }\n",
       "</style>\n",
       "<table border=\"1\" class=\"dataframe\">\n",
       "  <thead>\n",
       "    <tr style=\"text-align: right;\">\n",
       "      <th></th>\n",
       "      <th>OBJECTID</th>\n",
       "      <th>FID_Southern_MooseCrashes</th>\n",
       "      <th>crash_id</th>\n",
       "      <th>accident_d</th>\n",
       "      <th>accident_1</th>\n",
       "      <th>accident_t</th>\n",
       "      <th>accident_y</th>\n",
       "      <th>contrib_ci</th>\n",
       "      <th>crash_cost</th>\n",
       "      <th>light_cond</th>\n",
       "      <th>...</th>\n",
       "      <th>type_of_cr</th>\n",
       "      <th>weather_co</th>\n",
       "      <th>workzone_i</th>\n",
       "      <th>Lat</th>\n",
       "      <th>Long</th>\n",
       "      <th>FID_Southern_Roads</th>\n",
       "      <th>fedfunclcd</th>\n",
       "      <th>fedfunccls</th>\n",
       "      <th>st_length_</th>\n",
       "      <th>SHAPE</th>\n",
       "    </tr>\n",
       "  </thead>\n",
       "  <tbody>\n",
       "    <tr>\n",
       "      <th>0</th>\n",
       "      <td>1</td>\n",
       "      <td>26</td>\n",
       "      <td>2018-38359</td>\n",
       "      <td>2018-12-05</td>\n",
       "      <td>Wednesday</td>\n",
       "      <td>16:22:00</td>\n",
       "      <td>2018.0</td>\n",
       "      <td>None</td>\n",
       "      <td>2400.0</td>\n",
       "      <td>Dusk</td>\n",
       "      <td>...</td>\n",
       "      <td>Moose</td>\n",
       "      <td>Clear</td>\n",
       "      <td>No</td>\n",
       "      <td>5.330054e+06</td>\n",
       "      <td>-7.879758e+06</td>\n",
       "      <td>294</td>\n",
       "      <td>5.0</td>\n",
       "      <td>Major/urb collector</td>\n",
       "      <td>32014.217664</td>\n",
       "      <td>{\"x\": -7879757.7227, \"y\": 5330053.736100003, \"...</td>\n",
       "    </tr>\n",
       "    <tr>\n",
       "      <th>1</th>\n",
       "      <td>2</td>\n",
       "      <td>2</td>\n",
       "      <td>2014-25679</td>\n",
       "      <td>2014-09-14</td>\n",
       "      <td>Sunday</td>\n",
       "      <td>13:51:00</td>\n",
       "      <td>2014.0</td>\n",
       "      <td>None</td>\n",
       "      <td>2400.0</td>\n",
       "      <td>Daylight</td>\n",
       "      <td>...</td>\n",
       "      <td>Moose</td>\n",
       "      <td>Clear</td>\n",
       "      <td>No</td>\n",
       "      <td>5.363017e+06</td>\n",
       "      <td>-7.862016e+06</td>\n",
       "      <td>329</td>\n",
       "      <td>6.0</td>\n",
       "      <td>Minor collector</td>\n",
       "      <td>20708.158697</td>\n",
       "      <td>{\"x\": -7862016.2182, \"y\": 5363017.326899998, \"...</td>\n",
       "    </tr>\n",
       "    <tr>\n",
       "      <th>2</th>\n",
       "      <td>3</td>\n",
       "      <td>54</td>\n",
       "      <td>2014-12483</td>\n",
       "      <td>2014-04-23</td>\n",
       "      <td>Wednesday</td>\n",
       "      <td>20:40:00</td>\n",
       "      <td>2014.0</td>\n",
       "      <td>None</td>\n",
       "      <td>2400.0</td>\n",
       "      <td>Dark - Not Lighted</td>\n",
       "      <td>...</td>\n",
       "      <td>Moose</td>\n",
       "      <td>Cloudy</td>\n",
       "      <td>No</td>\n",
       "      <td>5.372572e+06</td>\n",
       "      <td>-7.855513e+06</td>\n",
       "      <td>101</td>\n",
       "      <td>1.0</td>\n",
       "      <td>Princ art interstate</td>\n",
       "      <td>22454.030712</td>\n",
       "      <td>{\"x\": -7855513.410700001, \"y\": 5372572.3469000...</td>\n",
       "    </tr>\n",
       "    <tr>\n",
       "      <th>3</th>\n",
       "      <td>4</td>\n",
       "      <td>14</td>\n",
       "      <td>2018-27897</td>\n",
       "      <td>2018-10-03</td>\n",
       "      <td>Wednesday</td>\n",
       "      <td>19:13:00</td>\n",
       "      <td>2018.0</td>\n",
       "      <td>None</td>\n",
       "      <td>31100.0</td>\n",
       "      <td>Dark - Not Lighted</td>\n",
       "      <td>...</td>\n",
       "      <td>Moose</td>\n",
       "      <td>Clear</td>\n",
       "      <td>No</td>\n",
       "      <td>5.373867e+06</td>\n",
       "      <td>-7.889528e+06</td>\n",
       "      <td>182</td>\n",
       "      <td>3.0</td>\n",
       "      <td>Other princ arterial</td>\n",
       "      <td>18455.589760</td>\n",
       "      <td>{\"x\": -7889527.907500001, \"y\": 5373867.3971000...</td>\n",
       "    </tr>\n",
       "    <tr>\n",
       "      <th>4</th>\n",
       "      <td>5</td>\n",
       "      <td>55</td>\n",
       "      <td>2014-18873</td>\n",
       "      <td>2014-07-11</td>\n",
       "      <td>Friday</td>\n",
       "      <td>04:23:00</td>\n",
       "      <td>2014.0</td>\n",
       "      <td>None</td>\n",
       "      <td>57700.0</td>\n",
       "      <td>Dark - Lighted</td>\n",
       "      <td>...</td>\n",
       "      <td>Moose</td>\n",
       "      <td>Clear</td>\n",
       "      <td>Yes</td>\n",
       "      <td>5.375260e+06</td>\n",
       "      <td>-7.854420e+06</td>\n",
       "      <td>101</td>\n",
       "      <td>1.0</td>\n",
       "      <td>Princ art interstate</td>\n",
       "      <td>22454.030712</td>\n",
       "      <td>{\"x\": -7854419.7848000005, \"y\": 5375260.404600...</td>\n",
       "    </tr>\n",
       "  </tbody>\n",
       "</table>\n",
       "<p>5 rows × 29 columns</p>\n",
       "</div>"
      ],
      "text/plain": [
       "   OBJECTID  FID_Southern_MooseCrashes    crash_id accident_d accident_1  \\\n",
       "0         1                         26  2018-38359 2018-12-05  Wednesday   \n",
       "1         2                          2  2014-25679 2014-09-14     Sunday   \n",
       "2         3                         54  2014-12483 2014-04-23  Wednesday   \n",
       "3         4                         14  2018-27897 2018-10-03  Wednesday   \n",
       "4         5                         55  2014-18873 2014-07-11     Friday   \n",
       "\n",
       "  accident_t  accident_y contrib_ci  crash_cost          light_cond  \\\n",
       "0   16:22:00      2018.0       None      2400.0                Dusk   \n",
       "1   13:51:00      2014.0       None      2400.0            Daylight   \n",
       "2   20:40:00      2014.0       None      2400.0  Dark - Not Lighted   \n",
       "3   19:13:00      2018.0       None     31100.0  Dark - Not Lighted   \n",
       "4   04:23:00      2014.0       None     57700.0      Dark - Lighted   \n",
       "\n",
       "                         ...                         type_of_cr weather_co  \\\n",
       "0                        ...                              Moose      Clear   \n",
       "1                        ...                              Moose      Clear   \n",
       "2                        ...                              Moose     Cloudy   \n",
       "3                        ...                              Moose      Clear   \n",
       "4                        ...                              Moose      Clear   \n",
       "\n",
       "   workzone_i           Lat          Long  FID_Southern_Roads  fedfunclcd  \\\n",
       "0          No  5.330054e+06 -7.879758e+06                 294         5.0   \n",
       "1          No  5.363017e+06 -7.862016e+06                 329         6.0   \n",
       "2          No  5.372572e+06 -7.855513e+06                 101         1.0   \n",
       "3          No  5.373867e+06 -7.889528e+06                 182         3.0   \n",
       "4         Yes  5.375260e+06 -7.854420e+06                 101         1.0   \n",
       "\n",
       "             fedfunccls    st_length_  \\\n",
       "0   Major/urb collector  32014.217664   \n",
       "1       Minor collector  20708.158697   \n",
       "2  Princ art interstate  22454.030712   \n",
       "3  Other princ arterial  18455.589760   \n",
       "4  Princ art interstate  22454.030712   \n",
       "\n",
       "                                               SHAPE  \n",
       "0  {\"x\": -7879757.7227, \"y\": 5330053.736100003, \"...  \n",
       "1  {\"x\": -7862016.2182, \"y\": 5363017.326899998, \"...  \n",
       "2  {\"x\": -7855513.410700001, \"y\": 5372572.3469000...  \n",
       "3  {\"x\": -7889527.907500001, \"y\": 5373867.3971000...  \n",
       "4  {\"x\": -7854419.7848000005, \"y\": 5375260.404600...  \n",
       "\n",
       "[5 rows x 29 columns]"
      ]
     },
     "execution_count": 14,
     "metadata": {},
     "output_type": "execute_result"
    }
   ],
   "source": [
    "region=pd.DataFrame.spatial.from_featureclass(southern)\n",
    "region.head()"
   ]
  },
  {
   "cell_type": "code",
   "execution_count": 11,
   "metadata": {},
   "outputs": [
    {
     "data": {
      "text/plain": [
       "(67, 29)"
      ]
     },
     "execution_count": 11,
     "metadata": {},
     "output_type": "execute_result"
    }
   ],
   "source": [
    "region.shape"
   ]
  },
  {
   "cell_type": "code",
   "execution_count": 15,
   "metadata": {},
   "outputs": [],
   "source": [
    "out_table=\"southmoosecrahRds\"  # Creating a table that summarizes the number of crashes based on road types\n",
    "stat_fields=[['type_of_cr', 'COUNT']]\n",
    "stats=arcpy.Statistics_analysis(southern, out_table, stat_fields, case_field='fedfunccls')"
   ]
  },
  {
   "cell_type": "code",
   "execution_count": 19,
   "metadata": {},
   "outputs": [
    {
     "data": {
      "text/html": [
       "<div>\n",
       "<style scoped>\n",
       "    .dataframe tbody tr th:only-of-type {\n",
       "        vertical-align: middle;\n",
       "    }\n",
       "\n",
       "    .dataframe tbody tr th {\n",
       "        vertical-align: top;\n",
       "    }\n",
       "\n",
       "    .dataframe thead th {\n",
       "        text-align: right;\n",
       "    }\n",
       "</style>\n",
       "<table border=\"1\" class=\"dataframe\">\n",
       "  <thead>\n",
       "    <tr style=\"text-align: right;\">\n",
       "      <th></th>\n",
       "      <th>fedfunccls</th>\n",
       "      <th>FREQUENCY</th>\n",
       "      <th>COUNT_type_of_cr</th>\n",
       "    </tr>\n",
       "  </thead>\n",
       "  <tbody>\n",
       "    <tr>\n",
       "      <th>0</th>\n",
       "      <td>Local</td>\n",
       "      <td>2</td>\n",
       "      <td>2</td>\n",
       "    </tr>\n",
       "    <tr>\n",
       "      <th>1</th>\n",
       "      <td>Major/urb collector</td>\n",
       "      <td>18</td>\n",
       "      <td>18</td>\n",
       "    </tr>\n",
       "    <tr>\n",
       "      <th>2</th>\n",
       "      <td>Minor arterial</td>\n",
       "      <td>9</td>\n",
       "      <td>9</td>\n",
       "    </tr>\n",
       "    <tr>\n",
       "      <th>3</th>\n",
       "      <td>Minor collector</td>\n",
       "      <td>10</td>\n",
       "      <td>10</td>\n",
       "    </tr>\n",
       "    <tr>\n",
       "      <th>4</th>\n",
       "      <td>Other princ arterial</td>\n",
       "      <td>13</td>\n",
       "      <td>13</td>\n",
       "    </tr>\n",
       "  </tbody>\n",
       "</table>\n",
       "</div>"
      ],
      "text/plain": [
       "             fedfunccls  FREQUENCY  COUNT_type_of_cr\n",
       "0                 Local          2                 2\n",
       "1   Major/urb collector         18                18\n",
       "2        Minor arterial          9                 9\n",
       "3       Minor collector         10                10\n",
       "4  Other princ arterial         13                13"
      ]
     },
     "execution_count": 19,
     "metadata": {},
     "output_type": "execute_result"
    }
   ],
   "source": [
    "field_names=[i.name for i in arcpy.ListFields(out_table) if i.type !='OID']\n",
    "cursor=arcpy.da.SearchCursor(out_table, field_names)\n",
    "stats=pd.DataFrame(data=[row for row in cursor], columns=field_names)\n",
    "stats.head()"
   ]
  },
  {
   "cell_type": "code",
   "execution_count": 20,
   "metadata": {},
   "outputs": [],
   "source": [
    "out_table1=\"southmoosecrahTime\"  # Creating a table that summarizes the number of crashes based on the time of the day\n",
    "stat_fields1=[['type_of_cr', 'COUNT']]\n",
    "stats1=arcpy.Statistics_analysis(southern, out_table1, stat_fields1, case_field='light_cond')"
   ]
  },
  {
   "cell_type": "code",
   "execution_count": 22,
   "metadata": {},
   "outputs": [
    {
     "data": {
      "text/html": [
       "<div>\n",
       "<style scoped>\n",
       "    .dataframe tbody tr th:only-of-type {\n",
       "        vertical-align: middle;\n",
       "    }\n",
       "\n",
       "    .dataframe tbody tr th {\n",
       "        vertical-align: top;\n",
       "    }\n",
       "\n",
       "    .dataframe thead th {\n",
       "        text-align: right;\n",
       "    }\n",
       "</style>\n",
       "<table border=\"1\" class=\"dataframe\">\n",
       "  <thead>\n",
       "    <tr style=\"text-align: right;\">\n",
       "      <th></th>\n",
       "      <th>light_cond</th>\n",
       "      <th>FREQUENCY</th>\n",
       "      <th>COUNT_type_of_cr</th>\n",
       "    </tr>\n",
       "  </thead>\n",
       "  <tbody>\n",
       "    <tr>\n",
       "      <th>0</th>\n",
       "      <td>Dark - Lighted</td>\n",
       "      <td>5</td>\n",
       "      <td>5</td>\n",
       "    </tr>\n",
       "    <tr>\n",
       "      <th>1</th>\n",
       "      <td>Dark - Not Lighted</td>\n",
       "      <td>50</td>\n",
       "      <td>50</td>\n",
       "    </tr>\n",
       "    <tr>\n",
       "      <th>2</th>\n",
       "      <td>Dawn</td>\n",
       "      <td>3</td>\n",
       "      <td>3</td>\n",
       "    </tr>\n",
       "    <tr>\n",
       "      <th>3</th>\n",
       "      <td>Daylight</td>\n",
       "      <td>6</td>\n",
       "      <td>6</td>\n",
       "    </tr>\n",
       "    <tr>\n",
       "      <th>4</th>\n",
       "      <td>Dusk</td>\n",
       "      <td>3</td>\n",
       "      <td>3</td>\n",
       "    </tr>\n",
       "  </tbody>\n",
       "</table>\n",
       "</div>"
      ],
      "text/plain": [
       "           light_cond  FREQUENCY  COUNT_type_of_cr\n",
       "0      Dark - Lighted          5                 5\n",
       "1  Dark - Not Lighted         50                50\n",
       "2                Dawn          3                 3\n",
       "3            Daylight          6                 6\n",
       "4                Dusk          3                 3"
      ]
     },
     "execution_count": 22,
     "metadata": {},
     "output_type": "execute_result"
    }
   ],
   "source": [
    "field_names1=[i.name for i in arcpy.ListFields(out_table1) if i.type !='OID']\n",
    "cursor=arcpy.da.SearchCursor(out_table1, field_names1)\n",
    "stats1=pd.DataFrame(data=[row for row in cursor], columns=field_names1)\n",
    "stats1.head()"
   ]
  },
  {
   "cell_type": "code",
   "execution_count": 24,
   "metadata": {},
   "outputs": [],
   "source": [
    "out_table2=\"southmoosecrahTraf\"  # Creating a table that summarizes the number of crashes based on the presence of traffic signs\n",
    "stat_fields2=[['type_of_cr', 'COUNT']]\n",
    "stats2=arcpy.Statistics_analysis(southern, out_table2, stat_fields2, case_field='traffic_co')"
   ]
  },
  {
   "cell_type": "code",
   "execution_count": 25,
   "metadata": {
    "scrolled": true
   },
   "outputs": [
    {
     "data": {
      "text/html": [
       "<div>\n",
       "<style scoped>\n",
       "    .dataframe tbody tr th:only-of-type {\n",
       "        vertical-align: middle;\n",
       "    }\n",
       "\n",
       "    .dataframe tbody tr th {\n",
       "        vertical-align: top;\n",
       "    }\n",
       "\n",
       "    .dataframe thead th {\n",
       "        text-align: right;\n",
       "    }\n",
       "</style>\n",
       "<table border=\"1\" class=\"dataframe\">\n",
       "  <thead>\n",
       "    <tr style=\"text-align: right;\">\n",
       "      <th></th>\n",
       "      <th>traffic_co</th>\n",
       "      <th>FREQUENCY</th>\n",
       "      <th>COUNT_type_of_cr</th>\n",
       "    </tr>\n",
       "  </thead>\n",
       "  <tbody>\n",
       "    <tr>\n",
       "      <th>0</th>\n",
       "      <td>Advisory/Warning Sign</td>\n",
       "      <td>1</td>\n",
       "      <td>1</td>\n",
       "    </tr>\n",
       "    <tr>\n",
       "      <th>1</th>\n",
       "      <td>No Passing Zone</td>\n",
       "      <td>4</td>\n",
       "      <td>4</td>\n",
       "    </tr>\n",
       "    <tr>\n",
       "      <th>2</th>\n",
       "      <td>None</td>\n",
       "      <td>60</td>\n",
       "      <td>60</td>\n",
       "    </tr>\n",
       "    <tr>\n",
       "      <th>3</th>\n",
       "      <td>Other</td>\n",
       "      <td>2</td>\n",
       "      <td>2</td>\n",
       "    </tr>\n",
       "  </tbody>\n",
       "</table>\n",
       "</div>"
      ],
      "text/plain": [
       "              traffic_co  FREQUENCY  COUNT_type_of_cr\n",
       "0  Advisory/Warning Sign          1                 1\n",
       "1        No Passing Zone          4                 4\n",
       "2                   None         60                60\n",
       "3                  Other          2                 2"
      ]
     },
     "execution_count": 25,
     "metadata": {},
     "output_type": "execute_result"
    }
   ],
   "source": [
    "field_names2=[i.name for i in arcpy.ListFields(out_table2) if i.type !='OID']\n",
    "cursor=arcpy.da.SearchCursor(out_table2, field_names2)\n",
    "stats2=pd.DataFrame(data=[row for row in cursor], columns=field_names2)\n",
    "stats2.head()"
   ]
  },
  {
   "cell_type": "code",
   "execution_count": 26,
   "metadata": {},
   "outputs": [],
   "source": [
    "out_table3=\"southmoosecrahRdCo\"  # Creating a table that summarizes the number of crashes based on road condition\n",
    "stat_fields3=[['type_of_cr', 'COUNT']]\n",
    "stats3=arcpy.Statistics_analysis(southern, out_table3, stat_fields3, case_field='road_surf_')"
   ]
  },
  {
   "cell_type": "code",
   "execution_count": 27,
   "metadata": {},
   "outputs": [
    {
     "data": {
      "text/html": [
       "<div>\n",
       "<style scoped>\n",
       "    .dataframe tbody tr th:only-of-type {\n",
       "        vertical-align: middle;\n",
       "    }\n",
       "\n",
       "    .dataframe tbody tr th {\n",
       "        vertical-align: top;\n",
       "    }\n",
       "\n",
       "    .dataframe thead th {\n",
       "        text-align: right;\n",
       "    }\n",
       "</style>\n",
       "<table border=\"1\" class=\"dataframe\">\n",
       "  <thead>\n",
       "    <tr style=\"text-align: right;\">\n",
       "      <th></th>\n",
       "      <th>road_surf_</th>\n",
       "      <th>FREQUENCY</th>\n",
       "      <th>COUNT_type_of_cr</th>\n",
       "    </tr>\n",
       "  </thead>\n",
       "  <tbody>\n",
       "    <tr>\n",
       "      <th>0</th>\n",
       "      <td>Dry</td>\n",
       "      <td>61</td>\n",
       "      <td>61</td>\n",
       "    </tr>\n",
       "    <tr>\n",
       "      <th>1</th>\n",
       "      <td>Wet</td>\n",
       "      <td>6</td>\n",
       "      <td>6</td>\n",
       "    </tr>\n",
       "  </tbody>\n",
       "</table>\n",
       "</div>"
      ],
      "text/plain": [
       "  road_surf_  FREQUENCY  COUNT_type_of_cr\n",
       "0        Dry         61                61\n",
       "1        Wet          6                 6"
      ]
     },
     "execution_count": 27,
     "metadata": {},
     "output_type": "execute_result"
    }
   ],
   "source": [
    "field_names3=[i.name for i in arcpy.ListFields(out_table3) if i.type !='OID']\n",
    "cursor=arcpy.da.SearchCursor(out_table3, field_names3)\n",
    "stats3=pd.DataFrame(data=[row for row in cursor], columns=field_names3)\n",
    "stats3.head()"
   ]
  },
  {
   "cell_type": "code",
   "execution_count": 28,
   "metadata": {},
   "outputs": [
    {
     "data": {
      "text/plain": [
       "<Result 'c:\\\\FinalProject\\\\FinalProject.gdb\\\\southmoosecrahRds'>"
      ]
     },
     "execution_count": 28,
     "metadata": {},
     "output_type": "execute_result"
    }
   ],
   "source": [
    "arcpy.AlterField_management(out_table, \"COUNT_type_of_cr\", \"Number_of_Crashes\", \"Number_of_Crashes\")  # renaming field"
   ]
  },
  {
   "cell_type": "code",
   "execution_count": 29,
   "metadata": {},
   "outputs": [
    {
     "data": {
      "text/plain": [
       "<Result 'c:\\\\FinalProject\\\\FinalProject.gdb\\\\southmoosecrahRds'>"
      ]
     },
     "execution_count": 29,
     "metadata": {},
     "output_type": "execute_result"
    }
   ],
   "source": [
    "arcpy.AlterField_management(out_table, \"fedfunccls\", \"Road_Classification\", \"Road_Classification\")  # renaming field"
   ]
  },
  {
   "cell_type": "code",
   "execution_count": 30,
   "metadata": {},
   "outputs": [
    {
     "data": {
      "text/plain": [
       "<Result 'c:\\\\FinalProject\\\\FinalProject.gdb\\\\southmoosecrahTime'>"
      ]
     },
     "execution_count": 30,
     "metadata": {},
     "output_type": "execute_result"
    }
   ],
   "source": [
    "arcpy.AlterField_management(out_table1, \"COUNT_type_of_cr\", \"Number_of_Crashes\", \"Number_of_Crashes\")  # renaming field"
   ]
  },
  {
   "cell_type": "code",
   "execution_count": 31,
   "metadata": {},
   "outputs": [
    {
     "data": {
      "text/plain": [
       "<Result 'c:\\\\FinalProject\\\\FinalProject.gdb\\\\southmoosecrahTime'>"
      ]
     },
     "execution_count": 31,
     "metadata": {},
     "output_type": "execute_result"
    }
   ],
   "source": [
    "arcpy.AlterField_management(out_table1, \"light_cond\", \"Light_Condition\", \"Light_Condition\")  # renaming field"
   ]
  },
  {
   "cell_type": "code",
   "execution_count": 33,
   "metadata": {},
   "outputs": [
    {
     "data": {
      "text/plain": [
       "<Result 'c:\\\\FinalProject\\\\FinalProject.gdb\\\\southmoosecrahTraf'>"
      ]
     },
     "execution_count": 33,
     "metadata": {},
     "output_type": "execute_result"
    }
   ],
   "source": [
    "arcpy.AlterField_management(out_table2, \"COUNT_type_of_cr\", \"Number_of_Crashes\", \"Number_of_Crashes\")  # renaming field"
   ]
  },
  {
   "cell_type": "code",
   "execution_count": 34,
   "metadata": {},
   "outputs": [
    {
     "data": {
      "text/plain": [
       "<Result 'c:\\\\FinalProject\\\\FinalProject.gdb\\\\southmoosecrahTraf'>"
      ]
     },
     "execution_count": 34,
     "metadata": {},
     "output_type": "execute_result"
    }
   ],
   "source": [
    "arcpy.AlterField_management(out_table2, \"traffic_co\", \"Traffic_Sign\", \"Traffic_Sign\")  # renaming field"
   ]
  },
  {
   "cell_type": "code",
   "execution_count": 35,
   "metadata": {},
   "outputs": [
    {
     "data": {
      "text/plain": [
       "<Result 'c:\\\\FinalProject\\\\FinalProject.gdb\\\\southmoosecrahRdCo'>"
      ]
     },
     "execution_count": 35,
     "metadata": {},
     "output_type": "execute_result"
    }
   ],
   "source": [
    "arcpy.AlterField_management(out_table3, \"COUNT_type_of_cr\", \"Number_of_Crashes\", \"Number_of_Crashes\")  # renaming field"
   ]
  },
  {
   "cell_type": "code",
   "execution_count": 44,
   "metadata": {},
   "outputs": [
    {
     "data": {
      "text/plain": [
       "<Result 'c:\\\\FinalProject\\\\FinalProject.gdb\\\\southmoosecrahRdCo'>"
      ]
     },
     "execution_count": 44,
     "metadata": {},
     "output_type": "execute_result"
    }
   ],
   "source": [
    "arcpy.AlterField_management(out_table3, \"road_surf_\", \"Road_Condition\", \"Road_Condition\")  # renaming field"
   ]
  },
  {
   "cell_type": "code",
   "execution_count": 36,
   "metadata": {},
   "outputs": [
    {
     "data": {
      "text/plain": [
       "<Result 'c:\\\\FinalProject\\\\FinalProject.gdb\\\\southmoosecrahRds'>"
      ]
     },
     "execution_count": 36,
     "metadata": {},
     "output_type": "execute_result"
    }
   ],
   "source": [
    "arcpy.DeleteField_management(out_table, \"FREQUENCY\")   # deleting the field FREQUENCY because not needed"
   ]
  },
  {
   "cell_type": "code",
   "execution_count": 37,
   "metadata": {},
   "outputs": [
    {
     "data": {
      "text/plain": [
       "<Result 'c:\\\\FinalProject\\\\FinalProject.gdb\\\\southmoosecrahTime'>"
      ]
     },
     "execution_count": 37,
     "metadata": {},
     "output_type": "execute_result"
    }
   ],
   "source": [
    "arcpy.DeleteField_management(out_table1, \"FREQUENCY\")   # deleting the field FREQUENCY because not needed"
   ]
  },
  {
   "cell_type": "code",
   "execution_count": 38,
   "metadata": {},
   "outputs": [
    {
     "data": {
      "text/plain": [
       "<Result 'c:\\\\FinalProject\\\\FinalProject.gdb\\\\southmoosecrahTraf'>"
      ]
     },
     "execution_count": 38,
     "metadata": {},
     "output_type": "execute_result"
    }
   ],
   "source": [
    "arcpy.DeleteField_management(out_table2, \"FREQUENCY\")   # deleting the field FREQUENCY because not needed"
   ]
  },
  {
   "cell_type": "code",
   "execution_count": 39,
   "metadata": {},
   "outputs": [
    {
     "data": {
      "text/plain": [
       "<Result 'c:\\\\FinalProject\\\\FinalProject.gdb\\\\southmoosecrahRdCo'>"
      ]
     },
     "execution_count": 39,
     "metadata": {},
     "output_type": "execute_result"
    }
   ],
   "source": [
    "arcpy.DeleteField_management(out_table3, \"FREQUENCY\")   # deleting the field FREQUENCY because not needed"
   ]
  },
  {
   "cell_type": "code",
   "execution_count": 40,
   "metadata": {},
   "outputs": [
    {
     "data": {
      "text/html": [
       "<div>\n",
       "<style scoped>\n",
       "    .dataframe tbody tr th:only-of-type {\n",
       "        vertical-align: middle;\n",
       "    }\n",
       "\n",
       "    .dataframe tbody tr th {\n",
       "        vertical-align: top;\n",
       "    }\n",
       "\n",
       "    .dataframe thead th {\n",
       "        text-align: right;\n",
       "    }\n",
       "</style>\n",
       "<table border=\"1\" class=\"dataframe\">\n",
       "  <thead>\n",
       "    <tr style=\"text-align: right;\">\n",
       "      <th></th>\n",
       "      <th>Road_Classification</th>\n",
       "      <th>Number_of_Crashes</th>\n",
       "    </tr>\n",
       "  </thead>\n",
       "  <tbody>\n",
       "    <tr>\n",
       "      <th>0</th>\n",
       "      <td>Local</td>\n",
       "      <td>2</td>\n",
       "    </tr>\n",
       "    <tr>\n",
       "      <th>1</th>\n",
       "      <td>Major/urb collector</td>\n",
       "      <td>18</td>\n",
       "    </tr>\n",
       "    <tr>\n",
       "      <th>2</th>\n",
       "      <td>Minor arterial</td>\n",
       "      <td>9</td>\n",
       "    </tr>\n",
       "    <tr>\n",
       "      <th>3</th>\n",
       "      <td>Minor collector</td>\n",
       "      <td>10</td>\n",
       "    </tr>\n",
       "    <tr>\n",
       "      <th>4</th>\n",
       "      <td>Other princ arterial</td>\n",
       "      <td>13</td>\n",
       "    </tr>\n",
       "  </tbody>\n",
       "</table>\n",
       "</div>"
      ],
      "text/plain": [
       "    Road_Classification  Number_of_Crashes\n",
       "0                 Local                  2\n",
       "1   Major/urb collector                 18\n",
       "2        Minor arterial                  9\n",
       "3       Minor collector                 10\n",
       "4  Other princ arterial                 13"
      ]
     },
     "execution_count": 40,
     "metadata": {},
     "output_type": "execute_result"
    }
   ],
   "source": [
    "field_names=[i.name for i in arcpy.ListFields(out_table) if i.type !='OID']\n",
    "cursor=arcpy.da.SearchCursor(out_table, field_names)\n",
    "stats=pd.DataFrame(data=[row for row in cursor], columns=field_names)\n",
    "stats.head()"
   ]
  },
  {
   "cell_type": "code",
   "execution_count": 41,
   "metadata": {},
   "outputs": [
    {
     "data": {
      "text/html": [
       "<div>\n",
       "<style scoped>\n",
       "    .dataframe tbody tr th:only-of-type {\n",
       "        vertical-align: middle;\n",
       "    }\n",
       "\n",
       "    .dataframe tbody tr th {\n",
       "        vertical-align: top;\n",
       "    }\n",
       "\n",
       "    .dataframe thead th {\n",
       "        text-align: right;\n",
       "    }\n",
       "</style>\n",
       "<table border=\"1\" class=\"dataframe\">\n",
       "  <thead>\n",
       "    <tr style=\"text-align: right;\">\n",
       "      <th></th>\n",
       "      <th>Light_Condition</th>\n",
       "      <th>Number_of_Crashes</th>\n",
       "    </tr>\n",
       "  </thead>\n",
       "  <tbody>\n",
       "    <tr>\n",
       "      <th>0</th>\n",
       "      <td>Dark - Lighted</td>\n",
       "      <td>5</td>\n",
       "    </tr>\n",
       "    <tr>\n",
       "      <th>1</th>\n",
       "      <td>Dark - Not Lighted</td>\n",
       "      <td>50</td>\n",
       "    </tr>\n",
       "    <tr>\n",
       "      <th>2</th>\n",
       "      <td>Dawn</td>\n",
       "      <td>3</td>\n",
       "    </tr>\n",
       "    <tr>\n",
       "      <th>3</th>\n",
       "      <td>Daylight</td>\n",
       "      <td>6</td>\n",
       "    </tr>\n",
       "    <tr>\n",
       "      <th>4</th>\n",
       "      <td>Dusk</td>\n",
       "      <td>3</td>\n",
       "    </tr>\n",
       "  </tbody>\n",
       "</table>\n",
       "</div>"
      ],
      "text/plain": [
       "      Light_Condition  Number_of_Crashes\n",
       "0      Dark - Lighted                  5\n",
       "1  Dark - Not Lighted                 50\n",
       "2                Dawn                  3\n",
       "3            Daylight                  6\n",
       "4                Dusk                  3"
      ]
     },
     "execution_count": 41,
     "metadata": {},
     "output_type": "execute_result"
    }
   ],
   "source": [
    "field_names1=[i.name for i in arcpy.ListFields(out_table1) if i.type !='OID']\n",
    "cursor=arcpy.da.SearchCursor(out_table1, field_names1)\n",
    "stats1=pd.DataFrame(data=[row for row in cursor], columns=field_names1)\n",
    "stats1.head()"
   ]
  },
  {
   "cell_type": "code",
   "execution_count": 42,
   "metadata": {},
   "outputs": [
    {
     "data": {
      "text/html": [
       "<div>\n",
       "<style scoped>\n",
       "    .dataframe tbody tr th:only-of-type {\n",
       "        vertical-align: middle;\n",
       "    }\n",
       "\n",
       "    .dataframe tbody tr th {\n",
       "        vertical-align: top;\n",
       "    }\n",
       "\n",
       "    .dataframe thead th {\n",
       "        text-align: right;\n",
       "    }\n",
       "</style>\n",
       "<table border=\"1\" class=\"dataframe\">\n",
       "  <thead>\n",
       "    <tr style=\"text-align: right;\">\n",
       "      <th></th>\n",
       "      <th>Traffic_Sign</th>\n",
       "      <th>Number_of_Crashes</th>\n",
       "    </tr>\n",
       "  </thead>\n",
       "  <tbody>\n",
       "    <tr>\n",
       "      <th>0</th>\n",
       "      <td>Advisory/Warning Sign</td>\n",
       "      <td>1</td>\n",
       "    </tr>\n",
       "    <tr>\n",
       "      <th>1</th>\n",
       "      <td>No Passing Zone</td>\n",
       "      <td>4</td>\n",
       "    </tr>\n",
       "    <tr>\n",
       "      <th>2</th>\n",
       "      <td>None</td>\n",
       "      <td>60</td>\n",
       "    </tr>\n",
       "    <tr>\n",
       "      <th>3</th>\n",
       "      <td>Other</td>\n",
       "      <td>2</td>\n",
       "    </tr>\n",
       "  </tbody>\n",
       "</table>\n",
       "</div>"
      ],
      "text/plain": [
       "            Traffic_Sign  Number_of_Crashes\n",
       "0  Advisory/Warning Sign                  1\n",
       "1        No Passing Zone                  4\n",
       "2                   None                 60\n",
       "3                  Other                  2"
      ]
     },
     "execution_count": 42,
     "metadata": {},
     "output_type": "execute_result"
    }
   ],
   "source": [
    "field_names2=[i.name for i in arcpy.ListFields(out_table2) if i.type !='OID']\n",
    "cursor=arcpy.da.SearchCursor(out_table2, field_names2)\n",
    "stats2=pd.DataFrame(data=[row for row in cursor], columns=field_names2)\n",
    "stats2.head()"
   ]
  },
  {
   "cell_type": "code",
   "execution_count": 45,
   "metadata": {},
   "outputs": [
    {
     "data": {
      "text/html": [
       "<div>\n",
       "<style scoped>\n",
       "    .dataframe tbody tr th:only-of-type {\n",
       "        vertical-align: middle;\n",
       "    }\n",
       "\n",
       "    .dataframe tbody tr th {\n",
       "        vertical-align: top;\n",
       "    }\n",
       "\n",
       "    .dataframe thead th {\n",
       "        text-align: right;\n",
       "    }\n",
       "</style>\n",
       "<table border=\"1\" class=\"dataframe\">\n",
       "  <thead>\n",
       "    <tr style=\"text-align: right;\">\n",
       "      <th></th>\n",
       "      <th>Road_Condition</th>\n",
       "      <th>Number_of_Crashes</th>\n",
       "    </tr>\n",
       "  </thead>\n",
       "  <tbody>\n",
       "    <tr>\n",
       "      <th>0</th>\n",
       "      <td>Dry</td>\n",
       "      <td>61</td>\n",
       "    </tr>\n",
       "    <tr>\n",
       "      <th>1</th>\n",
       "      <td>Wet</td>\n",
       "      <td>6</td>\n",
       "    </tr>\n",
       "  </tbody>\n",
       "</table>\n",
       "</div>"
      ],
      "text/plain": [
       "  Road_Condition  Number_of_Crashes\n",
       "0            Dry                 61\n",
       "1            Wet                  6"
      ]
     },
     "execution_count": 45,
     "metadata": {},
     "output_type": "execute_result"
    }
   ],
   "source": [
    "field_names3=[i.name for i in arcpy.ListFields(out_table3) if i.type !='OID']\n",
    "cursor=arcpy.da.SearchCursor(out_table3, field_names3)\n",
    "stats3=pd.DataFrame(data=[row for row in cursor], columns=field_names3)\n",
    "stats3.head()"
   ]
  },
  {
   "cell_type": "code",
   "execution_count": null,
   "metadata": {},
   "outputs": [],
   "source": []
  }
 ],
 "metadata": {
  "kernelspec": {
   "display_name": "Python 3",
   "language": "python",
   "name": "python3"
  },
  "language_info": {
   "codemirror_mode": {
    "name": "ipython",
    "version": 3
   },
   "file_extension": ".py",
   "mimetype": "text/x-python",
   "name": "python",
   "nbconvert_exporter": "python",
   "pygments_lexer": "ipython3",
   "version": "3.6.5"
  }
 },
 "nbformat": 4,
 "nbformat_minor": 2
}
