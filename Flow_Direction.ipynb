{
 "cells": [
  {
   "cell_type": "markdown",
   "metadata": {},
   "source": [
    "Lab6 Jupyter Notebook tasks   -Valerie Kamgue-"
   ]
  },
  {
   "cell_type": "code",
   "execution_count": 5,
   "metadata": {},
   "outputs": [],
   "source": [
    "import arcpy\n",
    "from arcpy import env\n",
    "from arcpy.sa import *\n",
    "env.workspace = \"C:/Lab6/MDIDATAfolder\"\n",
    "inraster = \"mdi_dem\"\n",
    "outFill = Fill(inraster)\n",
    "outFill.save(\"C:/Lab6/outfilldem\")"
   ]
  },
  {
   "cell_type": "code",
   "execution_count": 7,
   "metadata": {},
   "outputs": [],
   "source": [
    "env.workspace = \"C:/Lab6\"\n",
    "inraster1 = \"outfilldem\"\n",
    "outFlowDirection = FlowDirection(inraster1)\n",
    "outFlowDirection.save(\"C:/Lab6/outflowdir\")"
   ]
  },
  {
   "cell_type": "code",
   "execution_count": 8,
   "metadata": {},
   "outputs": [],
   "source": [
    "env.workspace = \"C:/Lab6\"\n",
    "inraster2 = \"outflowdir\"\n",
    "outFlowAccumulation = FlowAccumulation(\"outflowdir\")\n",
    "outFlowAccumulation.save(\"C:/Lab6/outflowacc\")\n"
   ]
  },
  {
   "cell_type": "code",
   "execution_count": null,
   "metadata": {},
   "outputs": [],
   "source": []
  }
 ],
 "metadata": {
  "kernelspec": {
   "display_name": "Python 3",
   "language": "python",
   "name": "python3"
  },
  "language_info": {
   "codemirror_mode": {
    "name": "ipython",
    "version": 3
   },
   "file_extension": ".py",
   "mimetype": "text/x-python",
   "name": "python",
   "nbconvert_exporter": "python",
   "pygments_lexer": "ipython3",
   "version": "3.6.5"
  }
 },
 "nbformat": 4,
 "nbformat_minor": 2
}
