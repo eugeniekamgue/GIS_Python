{
 "cells": [
  {
   "cell_type": "markdown",
   "metadata": {},
   "source": [
    "Eugenie Valerie Kamgue - SIE 510 GIS Applications with Python: Lab2 Creating basic geometry classes and accessing their properties and methods"
   ]
  },
  {
   "cell_type": "markdown",
   "metadata": {},
   "source": [
    "1) Construct polygons from the given coordinate list called polygon_info. "
   ]
  },
  {
   "cell_type": "code",
   "execution_count": 2,
   "metadata": {},
   "outputs": [],
   "source": [
    "import arcpy"
   ]
  },
  {
   "cell_type": "code",
   "execution_count": 15,
   "metadata": {},
   "outputs": [
    {
     "name": "stdout",
     "output_type": "stream",
     "text": [
      "4\n"
     ]
    }
   ],
   "source": [
    "arcpy.env.overwriteOutput = True\n",
    "\n",
    "polygon_info = [[[4,10],[14,10],[14,19.5],[7,22.5],[4,14]],[[10,10.5],[12,10.5],[12,13],[10,13]],[[16,16],[26,16.5],[26,23.5],[23,29],[16.5,29],[10.5,23],[16,20]],[[10,15],[20,25],[21,32],[12,33]]]\n",
    "\n",
    "polys = [] # A list that will hold each of the Polygon objects\n",
    "parray=arcpy.Array() # An array  to hold point objects\n",
    "point=arcpy.Point()  # initialize a new point object\n",
    "poly=arcpy.Polygon  # initialize a new polygon object\n",
    "for apolygon in polygon_info:  # iterate through the polygon_info\n",
    "    for coords in apolygon:\n",
    "        point.X=coords[0]\n",
    "        point.Y=coords[1]\n",
    "        parray.append(point) # Append to the list of polygon objects\n",
    "    poly=arcpy.Polygon(parray)\n",
    "    polys.append(poly)\n",
    "    parray.removeAll()\n",
    "pcount = len(polys) # Count of the number of polygons in the list of polygons objects\n",
    "print (pcount)"
   ]
  },
  {
   "cell_type": "markdown",
   "metadata": {},
   "source": [
    "2) Access polygon properties and generate a nicely formatted print out of the following polygon\n",
    "properties (area, point count, centroid, and extent). These are accessed with the dot notation."
   ]
  },
  {
   "cell_type": "code",
   "execution_count": 13,
   "metadata": {},
   "outputs": [
    {
     "name": "stdout",
     "output_type": "stream",
     "text": [
      "Polygon properties:\n",
      "\n",
      " Area: 101.75\n",
      " Point Count: 6\n",
      " Centroid: (9.226166296356727, 15.28022035041078)\n",
      " Extent: (4.0001220703125, 10.0001220703125, 14.0001220703125, 22.5001220703125)\n",
      "\n",
      " Area: 5.0\n",
      " Point Count: 5\n",
      " Centroid: (11.0001220703125, 11.7501220703125)\n",
      " Extent: (10.0001220703125, 10.5001220703125, 12.0001220703125, 13.0001220703125)\n",
      "\n",
      " Area: 142.5\n",
      " Point Count: 8\n",
      " Centroid: (19.62263669019554, 22.554215637563964)\n",
      " Extent: (10.5001220703125, 16.0001220703125, 26.0001220703125, 29.0001220703125)\n",
      "\n",
      " Area: 112.0\n",
      " Point Count: 5\n",
      " Centroid: (15.047741117931547, 25.952503022693453)\n",
      " Extent: (10.0001220703125, 15.0001220703125, 21.0001220703125, 33.0001220703125)\n"
     ]
    }
   ],
   "source": [
    "print(\"Polygon properties:\")\n",
    "for apolygon in polys: # Iterate throug the polygon objects\n",
    "    print()\n",
    "    print(f\" Area: {apolygon.area}\")\n",
    "    print(f\" Point Count: {apolygon.pointCount}\")\n",
    "    print(f\" Centroid: {apolygon.centroid.X, apolygon.centroid.Y}\")\n",
    "    print(f\" Extent: {apolygon.extent.XMin, apolygon.extent.YMin, apolygon.extent.XMax, apolygon.extent.YMax}\")"
   ]
  },
  {
   "cell_type": "markdown",
   "metadata": {},
   "source": [
    "3) Save the polygons as a polygon shapefile."
   ]
  },
  {
   "cell_type": "code",
   "execution_count": 5,
   "metadata": {},
   "outputs": [
    {
     "data": {
      "text/plain": [
       "<Result 'C:\\\\GISclass\\\\polygons.shp'>"
      ]
     },
     "execution_count": 5,
     "metadata": {},
     "output_type": "execute_result"
    }
   ],
   "source": [
    "# Persist a copy of the Polygon objects using CopyFeatures, save the polygons as a polygon shapefile\n",
    "arcpy.CopyFeatures_management(polys, \"C:/GISclass/polygons.shp\")"
   ]
  },
  {
   "cell_type": "markdown",
   "metadata": {},
   "source": [
    "4) Create a plot of the polygon shapefile"
   ]
  },
  {
   "cell_type": "code",
   "execution_count": 11,
   "metadata": {},
   "outputs": [
    {
     "data": {
      "image/png": "[encoded data removed]",
      "text/plain": [
       "<Figure size 432x288 with 1 Axes>"
      ]
     },
     "metadata": {
      "needs_background": "light"
     },
     "output_type": "display_data"
    }
   ],
   "source": [
    "import shapefile as shp  # Requires the pyshp package\n",
    "import matplotlib.pyplot as plt\n",
    "\n",
    "sf = shp.Reader(\"C:/GISclass/polygons.shp\")\n",
    "\n",
    "plt.figure()\n",
    "for shape in sf.shapeRecords():\n",
    "    x = [i[0] for i in shape.shape.points[:]]\n",
    "    y = [i[1] for i in shape.shape.points[:]]\n",
    "    plt.plot(x,y)\n",
    "plt.show()"
   ]
  },
  {
   "cell_type": "markdown",
   "metadata": {},
   "source": [
    "5) Compare polygons using the polygon method (overlaps) to determine if any of polygons overlap\n",
    "and print out which if any polygons overlap (e.g. test whether polygon1 overlaps polygon2)"
   ]
  },
  {
   "cell_type": "code",
   "execution_count": 16,
   "metadata": {},
   "outputs": [
    {
     "name": "stdout",
     "output_type": "stream",
     "text": [
      "no overlap\n",
      "no overlap\n",
      "no overlap\n",
      "0 3\n",
      "\n",
      "no overlap\n",
      "no overlap\n",
      "no overlap\n",
      "no overlap\n",
      "\n",
      "no overlap\n",
      "no overlap\n",
      "no overlap\n",
      "2 3\n",
      "\n",
      "3 0\n",
      "no overlap\n",
      "3 2\n",
      "no overlap\n",
      "\n"
     ]
    }
   ],
   "source": [
    "for i in range (len(polys)): #Iterate through the lenght of the polygon objects\n",
    "    for j in range (len(polys)):\n",
    "        if polys[i] .overlaps (polys [j]):\n",
    "            print (i,j)\n",
    "        else:\n",
    "            print (\"no overlap\")\n",
    "    print()"
   ]
  },
  {
   "cell_type": "code",
   "execution_count": null,
   "metadata": {},
   "outputs": [],
   "source": []
  }
 ],
 "metadata": {
  "kernelspec": {
   "display_name": "Python 3",
   "language": "python",
   "name": "python3"
  },
  "language_info": {
   "codemirror_mode": {
    "name": "ipython",
    "version": 3
   },
   "file_extension": ".py",
   "mimetype": "text/x-python",
   "name": "python",
   "nbconvert_exporter": "python",
   "pygments_lexer": "ipython3",
   "version": "3.6.5"
  }
 },
 "nbformat": 4,
 "nbformat_minor": 2
}
