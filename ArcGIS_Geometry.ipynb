{
 "cells": [
  {
   "cell_type": "markdown",
   "metadata": {},
   "source": [
    "SIE 510 GIS Applications with Python - Lab 4 - Parsing a textfile and writing ArcGIS geometry"
   ]
  },
  {
   "cell_type": "markdown",
   "metadata": {},
   "source": [
    "1) Open the textfile"
   ]
  },
  {
   "cell_type": "code",
   "execution_count": 1,
   "metadata": {},
   "outputs": [
    {
     "data": {
      "text/plain": [
       "file"
      ]
     },
     "execution_count": 1,
     "metadata": {},
     "output_type": "execute_result"
    }
   ],
   "source": [
    "bimini = open(r\"C:\\sie510\\seal.txt\", \"r\")  # The open() method creates a file object\n",
    "type(bimini)"
   ]
  },
  {
   "cell_type": "markdown",
   "metadata": {},
   "source": [
    "2) Read the file line by line"
   ]
  },
  {
   "cell_type": "code",
   "execution_count": 18,
   "metadata": {},
   "outputs": [
    {
     "name": "stdout",
     "output_type": "stream",
     "text": [
      "1 177502 Date : 16.10.18 11:27:32 LC : A IQ : 08 Lat1 : 41.281N Lon1 : 72.079W\n",
      "\n",
      "2 177502 Date : 17.10.18 13:03:40 LC : 3 IQ : 56 Lat1 : 41.205N Lon1 : 72.739W\n",
      "\n",
      "3 177502 Date : 18.10.18 12:52:32 LC : 2 IQ : 58 Lat1 : 40.969N Lon1 : 73.053W\n",
      "\n",
      "4 177502 Date : 19.10.18 11:52:33 LC : 3 IQ : 56 Lat1 : 40.889N Lon1 : 73.718W\n",
      "\n",
      "5 177502 Date : 20.10.18 02:38:58 LC : 3 IQ : 58 Lat1 : 40.861N Lon1 : 73.774W\n",
      "\n",
      "6 177502 Date : 21.10.18 00:05:33 LC : 2 IQ : 58 Lat1 : 41.046N Lon1 : 73.372W\n",
      "\n",
      "7 177502 Date : 22.10.18 10:34:19 LC : 2 IQ : 56 Lat1 : 41.140N Lon1 : 72.179W\n",
      "\n",
      "8 177502 Date : 23.10.18 13:30:15 LC : 3 IQ : 66 Lat1 : 41.026N Lon1 : 72.075W\n",
      "\n",
      "9 177502 Date : 24.10.18 09:14:37 LC : A IQ : 06 Lat1 : 40.868N Lon1 : 71.532W\n",
      "\n",
      "10 177502 Date : 25.10.18 02:36:59 LC : A IQ : 07 Lat1 : 40.612N Lon1 : 71.047W \n",
      "\n",
      "11 177502 Date : 26.10.18 01:36:39 LC : 0 IQ : 58 Lat1 : 40.452N Lon1 : 70.326W\n",
      "\n",
      "12 177502 Date : 27.10.18 00:25:02 LC : 2 IQ : 56 Lat1 : 40.040N Lon1 : 69.678W\n",
      "\n",
      "13 177502 Date : 28.10.18 00:50:15 LC : B IQ : 08 Lat1 : 39.860N Lon1 : 68.609W\n",
      "\n",
      "14 177502 Date : 28.10.18 12:35:18 LC : 2 IQ : 56 Lat1 : 40.523N Lon1 : 69.499W\n",
      "\n",
      "15 177502 Date : 29.10.18 02:52:10 LC : A IQ : 06 Lat1 : 40.724N Lon1 : 69.345W\n",
      "\n",
      "16 177502 Date : 29.10.18 22:09:26 LC : 2 IQ : 58 Lat1 : 41.062N Lon1 : 69.113W\n",
      "\n",
      "17 177502 Date : 31.10.18 2:09:03 LC : 2 IQ : XX Lat1 : 41.811N Lon1 : 68.65927W\n",
      "\n",
      "18 177502 Date : 01.11.18 01:50:22 LC : 3 IQ : 58 Lat1 : 42.678N Lon1 : 67.782W\n",
      "\n",
      "19 177502 Date : 02.11.18 01:28:01 LC : 3 IQ : 58 Lat1 : 43.236N Lon1 : 67.140W\n",
      "\n",
      "20 177502 Date : 02.11.18 23:22:49 LC : 2 IQ : 56 Lat1 : 43.501N Lon1 : 66.294W\n",
      "\n",
      "21 177502 Date : 03.11.18 10:42:16 LC : 3 IQ : 56 Lat1 : 43.635N Lon1 : 66.090W\n",
      "\n",
      "22 177502 Date : 05.11.18 00:31:01 LC : 3 IQ : 56 Lat1 : 43.675N Lon1 : 65.771W\n",
      "\n",
      "23 177502 Date : 05.11.18 22:30:57 LC : 3 IQ : 58 Lat1 : 43.675N Lon1 : 65.776W\n",
      "\n",
      "24 177502 Date : 07.11.18 01:24:36 LC : 2 IQ : 58 Lat1 : 43.010N Lon1 : 65.644W\n",
      "\n",
      "25 177502 Date : 07.11.18 23:30:00 LC : 2 IQ : 58 Lat1 : 42.404N Lon1 : 65.760W\n",
      "\n",
      "26 177502 Date : 09.11.18 00:48:50 LC : B IQ : 06 Lat1 : 41.930N Lon1 : 66.708W\n",
      "\n",
      "27 177502 Date : 10.11.18 02:03:01 LC : 1 IQ : 58 Lat1 : 42.047N Lon1 : 67.368W\n",
      "\n",
      "28 177502 Date : 11.11.18 01:48:00 LC : B IQ : 06 Lat1 : 41.781N Lon1 : 67.742W\n",
      "\n",
      "29 177502 Date : 12.11.18 00:42:44 LC : 3 IQ : 58 Lat1 : 41.832N Lon1 : 67.790W\n",
      "\n",
      "30 177502 Date : 13.11.18 00:27:40 LC : 2 IQ : 56 Lat1 : 41.737N Lon1 : 68.013W\n",
      "\n",
      "31 177502 Date : 13.11.18 22:40:11 LC : 3 IQ : 56 Lat1 : 41.981N Lon1 : 67.562W\n",
      "\n",
      "32 177502 Date : 15.11.18 00:00:03 LC : B IQ : 08 Lat1 : 41.884N Lon1 : 67.739W\n",
      "\n",
      "33 177502 Date : 15.11.18 21:32:18 LC : A IQ : 08 Lat1 : 41.818N Lon1 : 67.892W\n",
      "\n",
      "34 177502 Date : 16.11.18 03:23:59 LC : B IQ : 08 Lat1 : 41.799N Lon1 : 67.928W\n",
      "\n",
      "35 177502 Date : 17.11.18 01:26:02 LC : 1 IQ : 56 Lat1 : 41.692N Lon1 : 68.170W\n",
      "\n",
      "36 177502 Date : 18.11.18 02:42:45 LC : A IQ : 08 Lat1 : 41.324N Lon1 : 68.913W\n",
      "\n",
      "37 177502 Date : 19.11.18 01:00:27 LC : 3 IQ : 56 Lat1 : 40.983N Lon1 : 69.956W\n",
      "\n",
      "38 177502 Date : 20.11.18 00:33:10 LC : 3 IQ : 56 Lat1 : 40.877N Lon1 : 71.308W\n",
      "\n",
      "39 177502 Date : 20.11.18 23:07:47 LC : 1 IQ : 46 Lat1 : 41.180N Lon1 : 71.848W\n",
      "\n",
      "40 177502 Date : 21.11.18 14:40:03 LC : 2 IQ : 58 Lat1 : 41.077N Lon1 : 72.085W\n",
      "\n",
      "41 177502 Date : 22.11.18 14:15:15 LC : B IQ : 08 Lat1 : 41.097N Lon1 : 72.145W\n",
      "\n",
      "42 177502 Date : 23.11.18 02:34:27 LC : B IQ : 06 Lat1 : 40.751N Lon1 : 71.769W\n",
      "\n",
      "43 177502 Date : 23.11.18 02:34:27 LC : B IQ : 06 Lat1 : 40.751N Lon1 : 71.769W\n",
      "\n",
      " The number of lines read is: 43\n"
     ]
    }
   ],
   "source": [
    "line_number = 0\n",
    "with open(\"C:\\\\sie510\\\\seal.txt\") as file:\n",
    "    line=file.readline()  # The methob file.readline() reads a single line\n",
    "    for line in file:     # The for loop reads line by line through the file\n",
    "       line_number += 1\n",
    "       print (line_number, line)\n",
    "print (f\" The number of lines read is: {line_number}\")"
   ]
  },
  {
   "cell_type": "code",
   "execution_count": 8,
   "metadata": {},
   "outputs": [
    {
     "name": "stdout",
     "output_type": "stream",
     "text": [
      "['177502', 'Date', ':', '16.10.18', '11:27:32', 'LC', ':', 'A', 'IQ', ':', '08', 'Lat1', ':', '41.281N', 'Lon1', ':', '72.079W\\n']\n",
      "['177502', 'Date', ':', '17.10.18', '13:03:40', 'LC', ':', '3', 'IQ', ':', '56', 'Lat1', ':', '41.205N', 'Lon1', ':', '72.739W\\n']\n",
      "['177502', 'Date', ':', '18.10.18', '12:52:32', 'LC', ':', '2', 'IQ', ':', '58', 'Lat1', ':', '40.969N', 'Lon1', ':', '73.053W\\n']\n",
      "['177502', 'Date', ':', '19.10.18', '11:52:33', 'LC', ':', '3', 'IQ', ':', '56', 'Lat1', ':', '40.889N', 'Lon1', ':', '73.718W\\n']\n",
      "['177502', 'Date', ':', '20.10.18', '02:38:58', 'LC', ':', '3', 'IQ', ':', '58', 'Lat1', ':', '40.861N', 'Lon1', ':', '73.774W\\n']\n",
      "['177502', 'Date', ':', '21.10.18', '00:05:33', 'LC', ':', '2', 'IQ', ':', '58', 'Lat1', ':', '41.046N', 'Lon1', ':', '73.372W\\n']\n",
      "['177502', 'Date', ':', '22.10.18', '10:34:19', 'LC', ':', '2', 'IQ', ':', '56', 'Lat1', ':', '41.140N', 'Lon1', ':', '72.179W\\n']\n",
      "['177502', 'Date', ':', '23.10.18', '13:30:15', 'LC', ':', '3', 'IQ', ':', '66', 'Lat1', ':', '41.026N', 'Lon1', ':', '72.075W\\n']\n",
      "['177502', 'Date', ':', '24.10.18', '09:14:37', 'LC', ':', 'A', 'IQ', ':', '06', 'Lat1', ':', '40.868N', 'Lon1', ':', '71.532W\\n']\n",
      "['177502', 'Date', ':', '25.10.18', '02:36:59', 'LC', ':', 'A', 'IQ', ':', '07', 'Lat1', ':', '40.612N', 'Lon1', ':', '71.047W\\xa0\\n']\n",
      "['177502', 'Date', ':', '26.10.18', '01:36:39', 'LC', ':', '0', 'IQ', ':', '58', 'Lat1', ':', '40.452N', 'Lon1', ':', '70.326W\\n']\n",
      "['177502', 'Date', ':', '27.10.18', '00:25:02', 'LC', ':', '2', 'IQ', ':', '56', 'Lat1', ':', '40.040N', 'Lon1', ':', '69.678W\\n']\n",
      "['177502', 'Date', ':', '28.10.18', '00:50:15', 'LC', ':', 'B', 'IQ', ':', '08', 'Lat1', ':', '39.860N', 'Lon1', ':', '68.609W\\n']\n",
      "['177502', 'Date', ':', '28.10.18', '12:35:18', 'LC', ':', '2', 'IQ', ':', '56', 'Lat1', ':', '40.523N', 'Lon1', ':', '69.499W\\n']\n",
      "['177502', 'Date', ':', '29.10.18', '02:52:10', 'LC', ':', 'A', 'IQ', ':', '06', 'Lat1', ':', '40.724N', 'Lon1', ':', '69.345W\\n']\n",
      "['177502', 'Date', ':', '29.10.18', '22:09:26', 'LC', ':', '2', 'IQ', ':', '58', 'Lat1', ':', '41.062N', 'Lon1', ':', '69.113W\\n']\n",
      "['177502', 'Date', ':', '31.10.18', '2:09:03', 'LC', ':', '2', 'IQ', ':', 'XX', 'Lat1', ':', '41.811N', 'Lon1', ':', '68.65927W\\n']\n",
      "['177502', 'Date', ':', '01.11.18', '01:50:22', 'LC', ':', '3', 'IQ', ':', '58', 'Lat1', ':', '42.678N', 'Lon1', ':', '67.782W\\n']\n",
      "['177502', 'Date', ':', '02.11.18', '01:28:01', 'LC', ':', '3', 'IQ', ':', '58', 'Lat1', ':', '43.236N', 'Lon1', ':', '67.140W\\n']\n",
      "['177502', 'Date', ':', '02.11.18', '23:22:49', 'LC', ':', '2', 'IQ', ':', '56', 'Lat1', ':', '43.501N', 'Lon1', ':', '66.294W\\n']\n",
      "['177502', 'Date', ':', '03.11.18', '10:42:16', 'LC', ':', '3', 'IQ', ':', '56', 'Lat1', ':', '43.635N', 'Lon1', ':', '66.090W\\n']\n",
      "['177502', 'Date', ':', '05.11.18', '00:31:01', 'LC', ':', '3', 'IQ', ':', '56', 'Lat1', ':', '43.675N', 'Lon1', ':', '65.771W\\n']\n",
      "['177502', 'Date', ':', '05.11.18', '22:30:57', 'LC', ':', '3', 'IQ', ':', '58', 'Lat1', ':', '43.675N', 'Lon1', ':', '65.776W\\n']\n",
      "['177502', 'Date', ':', '07.11.18', '01:24:36', 'LC', ':', '2', 'IQ', ':', '58', 'Lat1', ':', '43.010N', 'Lon1', ':', '65.644W\\n']\n",
      "['177502', 'Date', ':', '07.11.18', '23:30:00', 'LC', ':', '2', 'IQ', ':', '58', 'Lat1', ':', '42.404N', 'Lon1', ':', '65.760W\\n']\n",
      "['177502', 'Date', ':', '09.11.18', '00:48:50', 'LC', ':', 'B', 'IQ', ':', '06', 'Lat1', ':', '41.930N', 'Lon1', ':', '66.708W\\n']\n",
      "['177502', 'Date', ':', '10.11.18', '02:03:01', 'LC', ':', '1', 'IQ', ':', '58', 'Lat1', ':', '42.047N', 'Lon1', ':', '67.368W\\n']\n",
      "['177502', 'Date', ':', '11.11.18', '01:48:00', 'LC', ':', 'B', 'IQ', ':', '06', 'Lat1', ':', '41.781N', 'Lon1', ':', '67.742W\\n']\n",
      "['177502', 'Date', ':', '12.11.18', '00:42:44', 'LC', ':', '3', 'IQ', ':', '58', 'Lat1', ':', '41.832N', 'Lon1', ':', '67.790W\\n']\n",
      "['177502', 'Date', ':', '13.11.18', '00:27:40', 'LC', ':', '2', 'IQ', ':', '56', 'Lat1', ':', '41.737N', 'Lon1', ':', '68.013W\\n']\n",
      "['177502', 'Date', ':', '13.11.18', '22:40:11', 'LC', ':', '3', 'IQ', ':', '56', 'Lat1', ':', '41.981N', 'Lon1', ':', '67.562W\\n']\n",
      "['177502', 'Date', ':', '15.11.18', '00:00:03', 'LC', ':', 'B', 'IQ', ':', '08', 'Lat1', ':', '41.884N', 'Lon1', ':', '67.739W\\n']\n",
      "['177502', 'Date', ':', '15.11.18', '21:32:18', 'LC', ':', 'A', 'IQ', ':', '08', 'Lat1', ':', '41.818N', 'Lon1', ':', '67.892W\\n']\n",
      "['177502', 'Date', ':', '16.11.18', '03:23:59', 'LC', ':', 'B', 'IQ', ':', '08', 'Lat1', ':', '41.799N', 'Lon1', ':', '67.928W\\n']\n",
      "['177502', 'Date', ':', '17.11.18', '01:26:02', 'LC', ':', '1', 'IQ', ':', '56', 'Lat1', ':', '41.692N', 'Lon1', ':', '68.170W\\n']\n",
      "['177502', 'Date', ':', '18.11.18', '02:42:45', 'LC', ':', 'A', 'IQ', ':', '08', 'Lat1', ':', '41.324N', 'Lon1', ':', '68.913W\\n']\n",
      "['177502', 'Date', ':', '19.11.18', '01:00:27', 'LC', ':', '3', 'IQ', ':', '56', 'Lat1', ':', '40.983N', 'Lon1', ':', '69.956W\\n']\n",
      "['177502', 'Date', ':', '20.11.18', '00:33:10', 'LC', ':', '3', 'IQ', ':', '56', 'Lat1', ':', '40.877N', 'Lon1', ':', '71.308W\\n']\n",
      "['177502', 'Date', ':', '20.11.18', '23:07:47', 'LC', ':', '1', 'IQ', ':', '46', 'Lat1', ':', '41.180N', 'Lon1', ':', '71.848W\\n']\n",
      "['177502', 'Date', ':', '21.11.18', '14:40:03', 'LC', ':', '2', 'IQ', ':', '58', 'Lat1', ':', '41.077N', 'Lon1', ':', '72.085W\\n']\n",
      "['177502', 'Date', ':', '22.11.18', '14:15:15', 'LC', ':', 'B', 'IQ', ':', '08', 'Lat1', ':', '41.097N', 'Lon1', ':', '72.145W\\n']\n",
      "['177502', 'Date', ':', '23.11.18', '02:34:27', 'LC', ':', 'B', 'IQ', ':', '06', 'Lat1', ':', '40.751N', 'Lon1', ':', '71.769W\\n']\n",
      "['177502', 'Date', ':', '23.11.18', '02:34:27', 'LC', ':', 'B', 'IQ', ':', '06', 'Lat1', ':', '40.751N', 'Lon1', ':', '71.769W\\n']\n"
     ]
    }
   ],
   "source": [
    "line_number=0\n",
    "with open(\"C:\\\\sie510\\\\seal.txt\") as file:\n",
    "    line=file.readline()\n",
    "    for line in file:\n",
    "        linesegment=line.split(\" \")  # The split method uses a separator to separate strings within a line\n",
    "        print(linesegment)\n",
    "        line_number += 1"
   ]
  },
  {
   "cell_type": "markdown",
   "metadata": {},
   "source": [
    "3) Extract the coordinate information (note: lat should be y and lon is x and lon should be negative for the western hemisphere) (use string operations here), "
   ]
  },
  {
   "cell_type": "code",
   "execution_count": 10,
   "metadata": {},
   "outputs": [
    {
     "name": "stdout",
     "output_type": "stream",
     "text": [
      "41.281 -72.079\n",
      "41.205 -72.739\n",
      "40.969 -73.053\n",
      "40.889 -73.718\n",
      "40.861 -73.774\n",
      "41.046 -73.372\n",
      "41.14 -72.179\n",
      "41.026 -72.075\n",
      "40.868 -71.532\n",
      "40.612 -71.047\n",
      "40.452 -70.326\n",
      "40.04 -69.678\n",
      "39.86 -68.609\n",
      "40.523 -69.499\n",
      "40.724 -69.345\n",
      "41.062 -69.113\n",
      "41.811 -68.65927\n",
      "42.678 -67.782\n",
      "43.236 -67.14\n",
      "43.501 -66.294\n",
      "43.635 -66.09\n",
      "43.675 -65.771\n",
      "43.675 -65.776\n",
      "43.01 -65.644\n",
      "42.404 -65.76\n",
      "41.93 -66.708\n",
      "42.047 -67.368\n",
      "41.781 -67.742\n",
      "41.832 -67.79\n",
      "41.737 -68.013\n",
      "41.981 -67.562\n",
      "41.884 -67.739\n",
      "41.818 -67.892\n",
      "41.799 -67.928\n",
      "41.692 -68.17\n",
      "41.324 -68.913\n",
      "40.983 -69.956\n",
      "40.877 -71.308\n",
      "41.18 -71.848\n",
      "41.077 -72.085\n",
      "41.097 -72.145\n",
      "40.751 -71.769\n",
      "40.751 -71.769\n"
     ]
    }
   ],
   "source": [
    "outfile = open(\"C:\\\\sie510\\\\coord.txt\", \"w\")\n",
    "line_number=0\n",
    "with open(\"C:\\\\sie510\\\\seal.txt\") as file:\n",
    "    line=file.readline()\n",
    "    for line in file:\n",
    "        linesegment =line.split()\n",
    "        lat=linesegment[13].rstrip(\"N\") # The rstrip() removes the trailing character \"N\" at the end of the latitude\n",
    "        lon=linesegment[16].rstrip(\"W\") # The rstrip() removes the trailing character \"W\" at the end of the longitude\n",
    "        latitude=float(lat)    # Convert the latitude from string to float \n",
    "        longitude=-float(lon)  # Convert the longitude from string to float\n",
    "        print (latitude, longitude)\n",
    "        line_number += 1\n",
    "        lineout = \"x:\" +str(longitude) +\"y:\" +str(latitude) +\"\\n\"\n",
    "        outfile.write(lineout)\n",
    "outfile.close()"
   ]
  },
  {
   "cell_type": "markdown",
   "metadata": {},
   "source": [
    "4) Generate points from these coordinates and create a point feature class."
   ]
  },
  {
   "cell_type": "code",
   "execution_count": 9,
   "metadata": {},
   "outputs": [
    {
     "data": {
      "text/plain": [
       "<Result 'C:\\\\GISclass\\\\MyProject\\\\Myproject.gdb\\\\biminipts'>"
      ]
     },
     "execution_count": 9,
     "metadata": {},
     "output_type": "execute_result"
    }
   ],
   "source": [
    "import arcpy\n",
    "\n",
    "trackpts=arcpy.Array()\n",
    "pointGeometryList=[]\n",
    "with open(\"C:\\\\sie510\\\\seal.txt\") as file:\n",
    "    for line in file:\n",
    "        linesegment=line.split()\n",
    "        lat=linesegment[13].rstrip(\"N\") # The rstrip() removes the trailing character \"N\" at the end of the latitude\n",
    "        lon=linesegment[16].rstrip(\"W\") # The rstrip() removes the trailing character \"W\" at the end of the longitude\n",
    "        latitude=float(lat)    # Convert the latitude from string to float \n",
    "        longitude=-float(lon)  # Convert the longitude from string to float\n",
    "        point=arcpy.Point(longitude, latitude)# make a point\n",
    "        trackpts.append(point)#add the point to the point array\n",
    "        for pt in trackpts: # read through pointList\n",
    "            pointGeometry = arcpy.PointGeometry(point) # convert the point to a pointgeometry object\n",
    "            pointGeometryList.append(pointGeometry) # put the pointGeometry object on the list\n",
    "    \n",
    "arcpy.CopyFeatures_management( pointGeometryList, \"C:/GISclass/MyProject/Myproject.gdb/biminipts\") # save the set of PointGeometry objects as a shapefile\n"
   ]
  },
  {
   "cell_type": "markdown",
   "metadata": {},
   "source": [
    "5) Create a polyline from the points and create a polyline feature class. You may reuse some code from the earlier lab and from the lecture jupyter notebooks. "
   ]
  },
  {
   "cell_type": "code",
   "execution_count": 16,
   "metadata": {},
   "outputs": [
    {
     "data": {
      "text/plain": [
       "<Result 'C:\\\\GISclass\\\\Myproject\\\\MyProject.gdb\\\\biminiline'>"
      ]
     },
     "execution_count": 16,
     "metadata": {},
     "output_type": "execute_result"
    }
   ],
   "source": [
    "import arcpy\n",
    "import os\n",
    "from arcpy import env\n",
    "\n",
    "env.workspace = r'C:\\GISclass\\MyProject\\MyProject.gdb' # The database path in the computer\n",
    "arcpy.env.overwriteOutput = True # Overwrite the previous file created\n",
    "outFC = r'C:\\GISclass\\Myproject\\MyProject.gdb\\biminiline' # Name of the new feature class created\n",
    "geometry_type = \"POLYLINE\"\n",
    "\n",
    "sr=arcpy.SpatialReference(4269) # WGS 1984\n",
    "\n",
    "trackpts=arcpy.Array()\n",
    "with open(\"C:\\\\sie510\\\\seal.txt\") as file:\n",
    "    for line in file:\n",
    "        linesegment=line.split()\n",
    "        lat=linesegment[13].rstrip(\"N\") # The rstrip() removes the trailing character \"N\" at the end of the latitude\n",
    "        lon=linesegment[16].rstrip(\"W\") # The rstrip() removes the trailing character \"W\" at the end of the longitude\n",
    "        latitude=float(lat)    # Convert the latitude from string to float \n",
    "        longitude=-float(lon)  # Convert the longitude from string to float\n",
    "        point=arcpy.Point(longitude, latitude)# make a point\n",
    "        trackpts.append(point)#add the point to the point array\n",
    "    path=arcpy.Polyline(trackpts) # Make polyline from points\n",
    "\n",
    "arcpy.CreateFeatureclass_management(os.path.dirname(outFC), os.path.basename(outFC), \"POLYLINE\", spatial_reference=sr)"
   ]
  },
  {
   "cell_type": "markdown",
   "metadata": {},
   "source": [
    "6) Report the total number of lines read in and the total number of points created.\n",
    "\n",
    "The total number of points created is 990 points ( from the attribute table of the location points).\n",
    "The total number of lines read is 43 (Please see code of question 2)."
   ]
  },
  {
   "cell_type": "code",
   "execution_count": null,
   "metadata": {},
   "outputs": [],
   "source": []
  }
 ],
 "metadata": {
  "kernelspec": {
   "display_name": "Python 3",
   "language": "python",
   "name": "python3"
  },
  "language_info": {
   "codemirror_mode": {
    "name": "ipython",
    "version": 3
   },
   "file_extension": ".py",
   "mimetype": "text/x-python",
   "name": "python",
   "nbconvert_exporter": "python",
   "pygments_lexer": "ipython3",
   "version": "3.6.5"
  }
 },
 "nbformat": 4,
 "nbformat_minor": 2
}
